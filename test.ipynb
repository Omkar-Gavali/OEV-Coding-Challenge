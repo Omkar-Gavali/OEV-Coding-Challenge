{
 "cells": [
  {
   "cell_type": "code",
   "execution_count": 1,
   "metadata": {},
   "outputs": [
    {
     "ename": "ModuleNotFoundError",
     "evalue": "No module named 'langchain'",
     "output_type": "error",
     "traceback": [
      "\u001b[0;31m---------------------------------------------------------------------------\u001b[0m",
      "\u001b[0;31mModuleNotFoundError\u001b[0m                       Traceback (most recent call last)",
      "Cell \u001b[0;32mIn[1], line 3\u001b[0m\n\u001b[1;32m      1\u001b[0m \u001b[38;5;28;01mimport\u001b[39;00m \u001b[38;5;21;01mjson\u001b[39;00m\n\u001b[1;32m      2\u001b[0m \u001b[38;5;28;01mimport\u001b[39;00m \u001b[38;5;21;01mpymupdf\u001b[39;00m\n\u001b[0;32m----> 3\u001b[0m \u001b[38;5;28;01mfrom\u001b[39;00m \u001b[38;5;21;01mlangchain\u001b[39;00m\u001b[38;5;21;01m.\u001b[39;00m\u001b[38;5;21;01membeddings\u001b[39;00m \u001b[38;5;28;01mimport\u001b[39;00m HuggingFaceEmbeddings\n\u001b[1;32m      4\u001b[0m \u001b[38;5;28;01mfrom\u001b[39;00m \u001b[38;5;21;01mlangchain\u001b[39;00m\u001b[38;5;21;01m.\u001b[39;00m\u001b[38;5;21;01mvectorstores\u001b[39;00m \u001b[38;5;28;01mimport\u001b[39;00m Chroma\n\u001b[1;32m      5\u001b[0m \u001b[38;5;28;01mfrom\u001b[39;00m \u001b[38;5;21;01mlangchain\u001b[39;00m\u001b[38;5;21;01m.\u001b[39;00m\u001b[38;5;21;01mtext_splitter\u001b[39;00m \u001b[38;5;28;01mimport\u001b[39;00m RecursiveCharacterTextSplitter\n",
      "\u001b[0;31mModuleNotFoundError\u001b[0m: No module named 'langchain'"
     ]
    }
   ],
   "source": [
    "import json\n",
    "import pymupdf\n",
    "from langchain.embeddings import HuggingFaceEmbeddings\n",
    "from langchain.vectorstores import Chroma\n",
    "from langchain.text_splitter import RecursiveCharacterTextSplitter\n",
    "import json\n",
    "import os\n"
   ]
  },
  {
   "cell_type": "code",
   "execution_count": null,
   "metadata": {},
   "outputs": [],
   "source": [
    "\n",
    "# Set up embeddings using Hugging Face\n",
    "def get_embeddings():\n",
    "    return HuggingFaceEmbeddings(model_name=\"sentence-transformers/all-mpnet-base-v2\")\n",
    "\n"
   ]
  },
  {
   "cell_type": "code",
   "execution_count": 2,
   "metadata": {},
   "outputs": [],
   "source": [
    "\n",
    "# Initialize Vector Store\n",
    "def init_vector_store(persist_directory=\"./db\"):\n",
    "    embeddings = get_embeddings()\n",
    "    return Chroma(collection_name=\"test_store\", embedding_function=embeddings, persist_directory=persist_directory)\n",
    "\n",
    "\n",
    "\n",
    "# Load PDF and extract text\n",
    "def process_pdf(pdf_path):\n",
    "    docs = []\n",
    "    pdf_document = fitz.open(pdf_path)  # Open PDF\n",
    "\n",
    "    for page_num in range(len(pdf_document)):\n",
    "        page = pdf_document[page_num]\n",
    "        text = page.get_text(\"text\")  # Extract text\n",
    "\n",
    "        if text.strip():  # Only store non-empty pages\n",
    "            docs.append({\"content\": text, \"metadata\": {\"page\": page_num + 1}})\n",
    "\n",
    "    return docs\n",
    "\n"
   ]
  },
  {
   "cell_type": "code",
   "execution_count": 3,
   "metadata": {},
   "outputs": [],
   "source": [
    "\n",
    "# Load JSON file\n",
    "def process_json(json_path):\n",
    "    docs = []\n",
    "    with open(json_path, \"r\") as file:\n",
    "        data = json.load(file)\n",
    "        for idx, item in enumerate(data):\n",
    "            docs.append({\"content\": json.dumps(item), \"metadata\": {\"id\": idx + 1}})\n",
    "    return docs\n",
    "    \n"
   ]
  },
  {
   "cell_type": "code",
   "execution_count": 4,
   "metadata": {},
   "outputs": [],
   "source": [
    "\n",
    "# Function to split text into chunks\n",
    "def split_documents(docs, chunk_size=500, chunk_overlap=50):\n",
    "    text_splitter = RecursiveCharacterTextSplitter(chunk_size=chunk_size, chunk_overlap=chunk_overlap)\n",
    "    formatted_docs = [doc[\"content\"] for doc in docs]\n",
    "    return text_splitter.create_documents(formatted_docs, metadatas=[doc[\"metadata\"] for doc in docs])\n"
   ]
  },
  {
   "cell_type": "code",
   "execution_count": 5,
   "metadata": {},
   "outputs": [],
   "source": [
    "\n",
    "# Ingest data into ChromaDB\n",
    "def ingest_data(pdf_path=\"test.pdf\", json_path=\"test.json\", persist_directory=\"./db\"):\n",
    "    vector_db = init_vector_store(persist_directory)\n",
    "    \n",
    "    # Process documents\n",
    "    pdf_docs = process_pdf(pdf_path)\n",
    "    json_docs = process_json(json_path)\n",
    "    all_docs = pdf_docs + json_docs\n",
    "\n",
    "    # Chunking the documents\n",
    "    split_docs = split_documents(all_docs)\n",
    "\n",
    "    # Add documents to vector DB\n",
    "    vector_db.add_documents(split_docs)\n",
    "    vector_db.persist()  # Save to disk\n",
    "\n",
    "    return vector_db\n",
    "    "
   ]
  },
  {
   "cell_type": "code",
   "execution_count": 6,
   "metadata": {},
   "outputs": [
    {
     "name": "stdout",
     "output_type": "stream",
     "text": [
      "\n",
      "--- Page 1 ---\n",
      "\n",
      "AI and Technology Knowledge Base\n",
      "Introduction to Artificial Intelligence\n",
      "Artificial Intelligence (AI) is a branch of computer science that focuses on creating machines\n",
      "capable of performing tasks that would normally require human intelligence. These tasks\n",
      "include learning, problem-solving, perception, language understanding, and\n",
      "decision-making. AI systems can be classified into two broad categories: narrow AI, which is\n",
      "designed to perform a narrow task (such as facial recognition or internet searches), and\n",
      "general AI, which has the ability to perform any intellectual task that a human can do. AI is\n",
      "transforming industries, from healthcare and finance to transportation and manufacturing.\n",
      "The evolution of AI can be traced back to early philosophical discussions about the nature of\n",
      "the mind and mechanical reasoning. However, the modern development of AI began with the\n",
      "invention of computers, which made it possible to simulate reasoning and decision-making\n",
      "through algorithms. In the 1950s, computer scientists like Alan Turing and John McCarthy\n",
      "laid the foundation for AI by exploring questions of machine intelligence. Turing's 'Turing\n",
      "Test' remains a benchmark for evaluating a machine's ability to exhibit intelligent behavior\n",
      "indistinguishable from that of a human.\n",
      "Today, AI applications are pervasive, ranging from virtual assistants like Siri and Alexa to\n",
      "advanced autonomous systems like self-driving cars. Machine learning, a subfield of AI, has\n",
      "become particularly important due to its ability to 'learn' from data without explicit\n",
      "programming. Machine learning models can be trained to recognize patterns in data,\n",
      "enabling them to make predictions and decisions. In recent years, advances in neural\n",
      "networks, deep learning, and reinforcement learning have propelled AI to new heights. AI is\n",
      "now capable of tasks such as understanding natural language, diagnosing diseases, and\n",
      "playing complex games like chess and Go at a superhuman level.\n",
      "Quantum Computing Basics\n",
      "Quantum computing is a new paradigm of computing that leverages the principles of\n",
      "quantum mechanics to process information in ways that classical computers cannot. The\n",
      "fundamental unit of quantum computing is the quantum bit, or qubit, which can exist in a\n",
      "superposition of states, meaning it can be both 0 and 1 simultaneously. This allows quantum\n",
      "computers to perform certain types of calculations much more efficiently than classical\n",
      "computers.\n",
      "Quantum computers use quantum gates to manipulate qubits in a manner analogous to how\n",
      "classical computers use logic gates to manipulate bits. However, because qubits can exist in\n",
      "multiple states at once, quantum gates can perform operations on many possible inputs\n",
      "simultaneously. This property, known as quantum parallelism, is what gives quantum\n",
      "computers their immense potential. Additionally, quantum entanglement allows qubits to be\n",
      "\n",
      "\n",
      "--- Page 2 ---\n",
      "\n",
      "correlated with each other in such a way that the state of one qubit is dependent on the\n",
      "state of another, even if they are far apart.\n",
      "Quantum computers are still in the early stages of development, but they hold great promise\n",
      "for solving problems that are intractable for classical computers. These include factoring\n",
      "large numbers, optimizing complex systems, and simulating the behavior of molecules and\n",
      "materials at the quantum level. Companies like IBM, Google, and Rigetti Computing are at\n",
      "the forefront of quantum computing research, developing both hardware and software for\n",
      "quantum systems. While fully scalable quantum computers are not yet available, the\n",
      "progress made in recent years suggests that they could revolutionize fields such as\n",
      "cryptography, drug discovery, and artificial intelligence.\n",
      "Blockchain Technology Overview\n",
      "Blockchain is a decentralized and distributed digital ledger technology that records\n",
      "transactions across multiple computers in such a way that the recorded transactions cannot\n",
      "be altered retroactively. Blockchain technology underpins cryptocurrencies like Bitcoin and\n",
      "Ethereum, but its applications extend far beyond digital currencies. In essence, a blockchain\n",
      "is a chain of blocks, where each block contains a set of transactions. Once a block is\n",
      "completed, it is added to the chain in a linear, chronological order, and the record of the\n",
      "transaction is permanently stored.\n",
      "One of the key features of blockchain is its security. Each block in the chain is linked to the\n",
      "previous block using a cryptographic hash, ensuring the integrity of the entire chain. To alter\n",
      "any single transaction, an attacker would have to modify not only the block containing that\n",
      "transaction but also all subsequent blocks, making blockchain highly resistant to tampering.\n",
      "This security feature makes blockchain particularly well-suited for applications where trust\n",
      "and transparency are critical.\n",
      "Blockchain's decentralized nature means that no single entity controls the entire network.\n",
      "Instead, multiple participants (or nodes) maintain the blockchain, with each node having a\n",
      "copy of the entire ledger. This decentralization eliminates the need for intermediaries, such\n",
      "as banks or other financial institutions, in peer-to-peer transactions. Blockchain technology\n",
      "is now being explored for applications in supply chain management, voting systems,\n",
      "healthcare, and digital identity management, among others. Smart contracts, which are\n",
      "self-executing contracts with the terms of the agreement directly written into code, are one\n",
      "of the most exciting developments in the blockchain space, enabling automated and\n",
      "trustless transactions.\n",
      "\n"
     ]
    }
   ],
   "source": [
    "import fitz\n",
    "\n",
    "pdf_path = \"data/AI_and_Technology_Knowledge_Base.pdf\"  # Replace with your file\n",
    "\n",
    "def test_pdf_processing():\n",
    "    doc = fitz.open(pdf_path)\n",
    "    for page_num in range(len(doc)):\n",
    "        page = doc[page_num]\n",
    "        print(f\"\\n--- Page {page_num + 1} ---\\n\")\n",
    "        print(page.get_text(\"text\"))  # Extract and print text\n",
    "\n",
    "test_pdf_processing()"
   ]
  },
  {
   "cell_type": "code",
   "execution_count": null,
   "metadata": {},
   "outputs": [],
   "source": []
  }
 ],
 "metadata": {
  "kernelspec": {
   "display_name": "Python 3",
   "language": "python",
   "name": "python3"
  },
  "language_info": {
   "codemirror_mode": {
    "name": "ipython",
    "version": 3
   },
   "file_extension": ".py",
   "mimetype": "text/x-python",
   "name": "python",
   "nbconvert_exporter": "python",
   "pygments_lexer": "ipython3",
   "version": "3.12.1"
  }
 },
 "nbformat": 4,
 "nbformat_minor": 2
}
